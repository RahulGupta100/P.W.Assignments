{
 "cells": [
  {
   "cell_type": "markdown",
   "id": "b84873d4-4fea-4bc7-b420-d648bddbdaa9",
   "metadata": {},
   "source": [
    "**Q1.** Create a python program to sort the given list of tuples based on integer value using a \n",
    "lambda function. \n",
    "[('Sachin Tendulkar', 34357), ('Ricky Ponting', 27483), ('Jack Kallis', 25534), ('Virat Kohli', 24936)]"
   ]
  },
  {
   "cell_type": "code",
   "execution_count": 2,
   "id": "a083231e-0ff1-416b-a59a-94aaba66b809",
   "metadata": {},
   "outputs": [
    {
     "name": "stdout",
     "output_type": "stream",
     "text": [
      "Sorted list of tuples:\n",
      "('Virat Kohli', 24936)\n",
      "('Jack Kallis', 25534)\n",
      "('Ricky Ponting', 27483)\n",
      "('Sachin Tendulkar', 34357)\n"
     ]
    }
   ],
   "source": [
    "# Given list of tuples\n",
    "tuples_list = [('Sachin Tendulkar', 34357), ('Ricky Ponting', 27483), ('Jack Kallis', 25534), ('Virat Kohli', 24936)]\n",
    "\n",
    "# Sort the list of tuples using a lambda function\n",
    "sorted_tuples = sorted(tuples_list, key=lambda x: x[1])\n",
    "\n",
    "# Print the sorted list\n",
    "print(\"Sorted list of tuples:\")\n",
    "for tuple in sorted_tuples:\n",
    "    print(tuple)"
   ]
  },
  {
   "cell_type": "markdown",
   "id": "1b6be362-c413-45c7-adfb-bf3f5d82d3c3",
   "metadata": {},
   "source": [
    "Explanation:\n",
    "\n",
    "The sorted() function is used to sort the list of tuples.\n",
    "The key argument of the sorted() function is a lambda function that specifies the sorting criterion.\n",
    "The lambda function lambda x: x[1] takes a tuple x as input and returns the second element of the tuple (i.e., the integer value).\n",
    "The sorted() function uses this lambda function to sort the list of tuples based on the integer value.\n",
    "The sorted list is stored in the sorted_tuples variable.\n",
    "Finally, we print the sorted list using a for loop."
   ]
  },
  {
   "cell_type": "markdown",
   "id": "6b52a279-f163-4e0b-9946-08c977ae181a",
   "metadata": {},
   "source": [
    "**Q2.** Write a Python Program to find the squares of all the numbers in the given list of integers using \n",
    "lambda and map functions.\n",
    " [1, 2, 3, 4, 5, 6, 7, 8, 9, 10]"
   ]
  },
  {
   "cell_type": "code",
   "execution_count": 1,
   "id": "0d84752e-4673-4c68-846e-29c7efbf60e4",
   "metadata": {},
   "outputs": [
    {
     "name": "stdout",
     "output_type": "stream",
     "text": [
      "Squares of the numbers:\n",
      "[1, 4, 9, 16, 25, 36, 49, 64, 81, 100]\n"
     ]
    }
   ],
   "source": [
    "# Given list of integers\n",
    "numbers = [1, 2, 3, 4, 5, 6, 7, 8, 9, 10]\n",
    "\n",
    "# Use lambda and map functions to find the squares\n",
    "squares = list(map(lambda x: x**2, numbers))\n",
    "\n",
    "# Print the squares\n",
    "print(\"Squares of the numbers:\")\n",
    "print(squares)"
   ]
  },
  {
   "cell_type": "markdown",
   "id": "198dc89b-d25f-4501-8449-95d4d9e2da50",
   "metadata": {},
   "source": [
    "Explanation:\n",
    "\n",
    "The map() function applies a given function to each item of an iterable (in this case, the list of numbers) and returns a map object.\n",
    "The lambda function lambda x: x**2 takes a number x as input and returns its square.\n",
    "The map() function applies this lambda function to each number in the numbers list, effectively squaring each number.\n",
    "The list() function is used to convert the map object to a list, which is stored in the squares variable.\n",
    "Finally, we print the squares list using the print() function."
   ]
  },
  {
   "cell_type": "markdown",
   "id": "8ac5633b-496c-4e18-abb3-93506cc1f2b8",
   "metadata": {},
   "source": [
    "Q3. Write a python program to convert the given list of integers into a tuple of strings. Use map and \n",
    "lambda functions\n",
    " Given String: [1, 2, 3, 4, 5, 6, 7, 8, 9, 10]\n",
    " Expected output: ('1', '2', '3', '4', '5', '6', '7', '8', '9', '10')"
   ]
  },
  {
   "cell_type": "code",
   "execution_count": 1,
   "id": "dfafe73f-a280-43f3-aa72-499fecb23901",
   "metadata": {},
   "outputs": [
    {
     "name": "stdout",
     "output_type": "stream",
     "text": [
      "Tuple of strings:\n",
      "('1', '2', '3', '4', '5', '6', '7', '8', '9', '10')\n"
     ]
    }
   ],
   "source": [
    "# Given list of integers\n",
    "num_list = [1, 2, 3, 4, 5, 6, 7, 8, 9, 10]\n",
    "\n",
    "# Use map and lambda functions to convert integers to strings\n",
    "str_tuple = tuple(map(lambda x: str(x), num_list))\n",
    "\n",
    "# Print the tuple of strings\n",
    "print(\"Tuple of strings:\")\n",
    "print(str_tuple)"
   ]
  },
  {
   "cell_type": "markdown",
   "id": "e3dbd200-656a-4713-ad57-49e50b42bbc4",
   "metadata": {},
   "source": [
    "**Q4.**  Write a python program using reduce function to compute the product of a list containing numbers \n",
    "from 1 to 25."
   ]
  },
  {
   "cell_type": "code",
   "execution_count": 4,
   "id": "e1d65cd5-4155-4a96-8931-9c40de4fb0de",
   "metadata": {},
   "outputs": [
    {
     "name": "stdout",
     "output_type": "stream",
     "text": [
      "Product of numbers from 1 to 25:\n",
      "15511210043330985984000000\n"
     ]
    }
   ],
   "source": [
    "import functools\n",
    "import operator\n",
    "\n",
    "# Create a list of numbers from 1 to 25\n",
    "numbers = list(range(1, 26))\n",
    "\n",
    "# Use reduce to compute the product of the list\n",
    "product = functools.reduce(operator.mul, numbers)\n",
    "\n",
    "print(\"Product of numbers from 1 to 25:\")\n",
    "print(product)"
   ]
  },
  {
   "cell_type": "markdown",
   "id": "d5868890-c748-4d08-8c7b-967a20c22787",
   "metadata": {},
   "source": [
    "This program uses the reduce function to apply the mul operator (which multiplies two numbers) to the elements of the numbers list, starting from the first element and accumulating the result.\n",
    "**In Python 3, the reduce function has been moved to the functools module, so you need to import it from there. In Python 2, reduce was a built-in function.**"
   ]
  },
  {
   "cell_type": "markdown",
   "id": "6ac17fb8-e173-4f80-bb8e-3945c76bd72c",
   "metadata": {},
   "source": [
    "**Q5.** Write a python program to filter the numbers in a given list that are divisible by 2 and 3 using the \n",
    "filter function [2, 3, 6, 9, 27, 60, 90, 120, 55, 46]"
   ]
  },
  {
   "cell_type": "code",
   "execution_count": 6,
   "id": "add26be2-332a-412c-a29f-e500daa37556",
   "metadata": {},
   "outputs": [
    {
     "name": "stdout",
     "output_type": "stream",
     "text": [
      "Numbers divisible by 2 and 3:\n",
      "[6, 60, 90, 120]\n"
     ]
    }
   ],
   "source": [
    "# Given list of numbers\n",
    "numbers = [2, 3, 6, 9, 27, 60, 90, 120, 55, 46]\n",
    "\n",
    "# Use filter function to filter numbers divisible by 2 and 3\n",
    "divisible_numbers = list(filter(lambda x: x % 2 == 0 and x % 3 == 0, numbers))\n",
    "\n",
    "print(\"Numbers divisible by 2 and 3:\")\n",
    "print(divisible_numbers)"
   ]
  },
  {
   "cell_type": "markdown",
   "id": "dde1cec5-ab9c-4341-a67a-a7ae95fc4ea1",
   "metadata": {},
   "source": [
    "This program uses a lambda function as the filtering criterion, which checks if a number is divisible by both 2 and 3 (i.e., x % 2 == 0 and x % 3 == 0). The filter function applies this criterion to each element of the numbers list and returns an iterator over the elements that pass the test. The list function is used to convert the iterator to a list."
   ]
  },
  {
   "cell_type": "markdown",
   "id": "57cfcb0a-ef94-4bdb-a694-60b9356e6762",
   "metadata": {},
   "source": [
    "**Q6.** Write a python program to find palindromes in the given list of strings using lambda and filter \n",
    "function.\n",
    " ['python', 'php', 'aba', 'radar', 'level']"
   ]
  },
  {
   "cell_type": "code",
   "execution_count": 8,
   "id": "f86942e3-be33-4518-9610-e902d9260ae7",
   "metadata": {},
   "outputs": [
    {
     "name": "stdout",
     "output_type": "stream",
     "text": [
      "Palindromes in the list:\n",
      "['php', 'aba', 'radar', 'level']\n"
     ]
    }
   ],
   "source": [
    "# Given list of strings\n",
    "strings = ['python', 'php', 'aba', 'radar', 'level']\n",
    "\n",
    "# Use filter function to find palindromes\n",
    "palindromes = list(filter(lambda s: s == s[::-1], strings))\n",
    "\n",
    "print(\"Palindromes in the list:\")\n",
    "print(palindromes)"
   ]
  },
  {
   "cell_type": "markdown",
   "id": "d7b6169d-12de-4333-9175-70e4d0f92578",
   "metadata": {},
   "source": [
    "This program uses a lambda function as the filtering criterion, which checks if a string is equal to its reverse (s == s[::-1]). The filter function applies this criterion to each element of the strings list and returns an iterator over the elements that pass the test. The list function is used to convert the iterator to a list.\n",
    "**Note:** The s[::-1] syntax is used to get the reverse of a string s. It's a slice that starts from the end of the string and moves backwards to the beginning, stepping backwards by 1 character each time."
   ]
  },
  {
   "cell_type": "code",
   "execution_count": null,
   "id": "896417c3-6577-4688-80c0-d506b4ade212",
   "metadata": {},
   "outputs": [],
   "source": []
  }
 ],
 "metadata": {
  "kernelspec": {
   "display_name": "Python 3 (ipykernel)",
   "language": "python",
   "name": "python3"
  },
  "language_info": {
   "codemirror_mode": {
    "name": "ipython",
    "version": 3
   },
   "file_extension": ".py",
   "mimetype": "text/x-python",
   "name": "python",
   "nbconvert_exporter": "python",
   "pygments_lexer": "ipython3",
   "version": "3.10.8"
  }
 },
 "nbformat": 4,
 "nbformat_minor": 5
}
