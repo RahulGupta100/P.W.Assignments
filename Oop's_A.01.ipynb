{
 "cells": [
  {
   "cell_type": "markdown",
   "id": "18ac2caa-1b06-46ef-8a96-8f01b088f2d6",
   "metadata": {},
   "source": [
    " Q1. Explain Class and Object with respect to Object-Oriented Programming. Give a suitable example."
   ]
  },
  {
   "cell_type": "raw",
   "id": "6f8229ba-f2b6-4735-a812-a589059c22c6",
   "metadata": {},
   "source": [
    "In Object-Oriented Programming (OOP), a class and an object are two fundamental concepts that are closely related but distinct.\n",
    "**Class:** A class is a blueprint or a template that defines the properties and behavior of an object. It is a abstract concept that defines the characteristics of an object, including its attributes (data) and methods (functions). A class is essentially a design pattern or a template that defines how an object should be created and what properties and behaviors it should have.\n",
    "**Object:** An object is an instance of a class. It is a concrete entity that has its own set of attributes (data) and methods (functions) that are defined by the class. An object has its own set of values for its attributes and can be manipulated independently of other objects.\n",
    "Let's consider a simple example to illustrate the concept of class and object."
   ]
  },
  {
   "cell_type": "code",
   "execution_count": 1,
   "id": "20db3444-900d-4243-ac68-0a7b156ae7cd",
   "metadata": {},
   "outputs": [
    {
     "name": "stdout",
     "output_type": "stream",
     "text": [
      "1500.0\n",
      "300.0\n"
     ]
    }
   ],
   "source": [
    "class BankAccount:                                                          #The BankAccount class defines the properties and behavior of a bank account. \n",
    "    def __init__(self, accountNumber, accountHolderName, balance):          #It has attributes such as: accountNumber (integer) accountHolderName (string) balance (float)\n",
    "        self.accountNumber = accountNumber\n",
    "        self.accountHolderName = accountHolderName\n",
    "        self.balance = balance\n",
    "\n",
    "#And methods such as: deposit(amount) (adds money to the account) withdraw(amount) (removes money from the account) getBalance() (returns the current balance)\n",
    "    def deposit(self, amount):\n",
    "        self.balance += amount\n",
    "\n",
    "    def withdraw(self, amount):\n",
    "        if amount <= self.balance:\n",
    "            self.balance -= amount\n",
    "        else:\n",
    "            print(\"Insufficient balance\")\n",
    "\n",
    "    def getBalance(self):\n",
    "        return self.balance\n",
    "\n",
    "# Create objects\n",
    "RahulsAccount = BankAccount(123456, \"Rahul Gupta\", 1000.00)\n",
    "Jonathansaccount = BankAccount(789012, \"Jonathan Dey\", 500.00)\n",
    "\n",
    "# Use objects\n",
    "RahulsAccount.deposit(500.00)\n",
    "print(RahulsAccount.getBalance())  # Output: 1500.00 \n",
    "\n",
    "Jonathansaccount.withdraw(200.00)\n",
    "print(Jonathansaccount.getBalance())  # Output: 300.00"
   ]
  },
  {
   "cell_type": "markdown",
   "id": "dba11339-457a-4888-8ff5-e09e5b5f22ec",
   "metadata": {},
   "source": [
    " **Q2**. Name the four pillars of OOPs."
   ]
  },
  {
   "cell_type": "markdown",
   "id": "8ac488e7-c7bb-478a-a2f4-84e8a9354ba2",
   "metadata": {},
   "source": [
    "The four pillars of Object-Oriented Programming (OOPs) are:\n",
    "\n",
    "1. Encapsulation: In Python, encapsulation is the concept of bundling data and methods that operate on that data within a single unit, called a class. This helps to hide the implementation details from the outside world and provides a way to control access to the data.\n",
    "\n",
    "2. Abstraction: Abstraction is the concept of showing only the necessary information to the outside world while hiding the implementation details. In Python, abstraction is achieved through abstract classes and interfaces.\n",
    "\n",
    "3. Inheritance: Inheritance is the concept of creating a new class based on an existing class. The new class inherits the attributes and methods of the existing class and can also add new attributes and methods or override the ones inherited from the parent class.\n",
    "\n",
    "4. Polymorphism: Polymorphism is the concept of having multiple forms of a single entity. In Python, polymorphism is achieved through method overriding and method overloading."
   ]
  },
  {
   "cell_type": "markdown",
   "id": "b596bfb0-4f05-4002-b356-8194621c6704",
   "metadata": {},
   "source": [
    "**Q3.** Explain why the __init__() function is used. Give a suitable example.\n"
   ]
  },
  {
   "cell_type": "markdown",
   "id": "9fc8acfe-6ca4-476c-8e27-e1b0effa7a65",
   "metadata": {},
   "source": [
    "The '__init__()' function, also known as the constructor, is a special method in Python classes that is used to initialize objects when they are created. It is called when an object is instantiated from a class, and it is responsible for setting the initial state of the object.\n",
    "\n",
    "The '__init__()' function is used for several reasons:\n",
    "Initialization of attributes: It allows you to set the initial values of an object's attributes.\n",
    "Object setup: It provides a way to perform any necessary setup or initialization when an object is created.\n",
    "Enforcing consistency: It ensures that objects are created in a consistent state, with all necessary attributes initialized."
   ]
  },
  {
   "cell_type": "code",
   "execution_count": 2,
   "id": "5b40fac1-bd8f-42df-80ef-a5032cd32cae",
   "metadata": {},
   "outputs": [
    {
     "name": "stdout",
     "output_type": "stream",
     "text": [
      "1234567890\n",
      "Rahul Gupta\n",
      "1000.0\n",
      "1500.0\n",
      "1300.0\n"
     ]
    }
   ],
   "source": [
    "class BankAccount:\n",
    "    def __init__(self, account_number, account_holder_name, initial_balance):\n",
    "        self.account_number = account_number\n",
    "        self.account_holder_name = account_holder_name\n",
    "        self.balance = initial_balance\n",
    "\n",
    "    def deposit(self, amount):\n",
    "        self.balance += amount\n",
    "\n",
    "    def withdraw(self, amount):\n",
    "        if amount <= self.balance:\n",
    "            self.balance -= amount\n",
    "        else:\n",
    "            print(\"Insufficient balance\")\n",
    "\n",
    "# Create a new BankAccount object\n",
    "account = BankAccount(\"1234567890\", \"Rahul Gupta\", 1000.0)\n",
    "\n",
    "print(account.account_number)  # Output: 1234567890\n",
    "print(account.account_holder_name)  # Output: John Doe\n",
    "print(account.balance)  # Output: 1000.0\n",
    "\n",
    "account.deposit(500.0)\n",
    "print(account.balance)  # Output: 1500.0\n",
    "\n",
    "account.withdraw(200.0)\n",
    "print(account.balance)  # Output: 1300.0"
   ]
  },
  {
   "cell_type": "markdown",
   "id": "fd35d1a3-897b-4985-b269-f64e9f0a84f7",
   "metadata": {},
   "source": [
    "**Q4**. Why self is used in OOPs?"
   ]
  },
  {
   "cell_type": "markdown",
   "id": "9e0de885-6f43-4e00-9b45-98b12ebe35c7",
   "metadata": {},
   "source": [
    "In Object-Oriented Programming (OOPs), self is a reference to the current instance of the class and is used to access variables and methods that belongs to the class.\n",
    "\n",
    "Here are some reasons why self is used in OOPs:\n",
    "\n",
    "1.To access class attributes: self is used to access the attributes (data members) of the class. It allows you to differentiate between local variables and class attributes.\n",
    "Example:"
   ]
  },
  {
   "cell_type": "code",
   "execution_count": 5,
   "id": "92af4d2f-cf65-4f15-901e-ee2766c07e3d",
   "metadata": {},
   "outputs": [
    {
     "name": "stdout",
     "output_type": "stream",
     "text": [
      "Rahul\n",
      "25\n"
     ]
    }
   ],
   "source": [
    "class Employee:\n",
    "    def __init__(self, name, age):\n",
    "        self.name = name  # self is used to access the class attribute\n",
    "        self.age = age\n",
    "\n",
    "emp = Employee(\"Rahul\", 25)\n",
    "print(emp.name)  \n",
    "print(emp.age)   "
   ]
  },
  {
   "cell_type": "markdown",
   "id": "3a111a21-3422-4885-90cb-d88d51ccd01f",
   "metadata": {},
   "source": [
    "2. To access class methods: 'self' is used to access the methods (functions) of the class. It allows you to call methods on the current instance of the class.\n",
    "Example:"
   ]
  },
  {
   "cell_type": "code",
   "execution_count": 4,
   "id": "54ffdb24-ae61-4193-a9c4-09e516d2a814",
   "metadata": {},
   "outputs": [
    {
     "name": "stdout",
     "output_type": "stream",
     "text": [
      "Name: Rahul, Age: 25\n"
     ]
    }
   ],
   "source": [
    "class Employee:\n",
    "    def __init__(self, name, age):\n",
    "        self.name = name\n",
    "        self.age = age\n",
    "\n",
    "    def display_details(self):  # self is used to access the class method\n",
    "        print(f\"Name: {self.name}, Age: {self.age}\")\n",
    "\n",
    "emp = Employee(\"Rahul\", 25)\n",
    "emp.display_details()  "
   ]
  },
  {
   "cell_type": "markdown",
   "id": "8f68d651-562e-4459-a677-887c9dcd596f",
   "metadata": {},
   "source": [
    "3. To differentiate between instance variables and local variables: self is used to differentiate between instance variables (class attributes) and local variables."
   ]
  },
  {
   "cell_type": "code",
   "execution_count": 3,
   "id": "997aeb2f-0f14-42d0-ad9b-9e640319c4be",
   "metadata": {},
   "outputs": [
    {
     "name": "stdout",
     "output_type": "stream",
     "text": [
      "Rahul\n"
     ]
    }
   ],
   "source": [
    "class Employee:\n",
    "    def __init__(self, name, age):\n",
    "        self.name = name  # instance variable\n",
    "        name = \"Default\"  # local variable\n",
    "\n",
    "emp = Employee(\"Rahul\", 30)\n",
    "print(emp.name)  "
   ]
  },
  {
   "cell_type": "markdown",
   "id": "21ffc8bc-4d21-440a-a6eb-45184a4d0a0c",
   "metadata": {},
   "source": [
    "In this example, 'self.name' is an instance variable, and 'name' is a local variable."
   ]
  },
  {
   "cell_type": "markdown",
   "id": "7be0feca-af22-42b5-be48-f274ac37c7d4",
   "metadata": {},
   "source": [
    "4. To enable method chaining: self is used to enable method chaining, where you can call multiple methods on the same instance of the class."
   ]
  },
  {
   "cell_type": "code",
   "execution_count": 2,
   "id": "ace6f8e0-60ca-4c1a-a32f-84a96b5fc4f0",
   "metadata": {},
   "outputs": [
    {
     "name": "stdout",
     "output_type": "stream",
     "text": [
      "Maria\n",
      "25\n"
     ]
    }
   ],
   "source": [
    "class Employee:\n",
    "    def __init__(self, name, age):\n",
    "        self.name = name\n",
    "        self.age = age\n",
    "\n",
    "    def set_name(self, name):\n",
    "        self.name = name\n",
    "        return self  # return self to enable method chaining\n",
    "\n",
    "    def set_age(self, age):\n",
    "        self.age = age\n",
    "        return self  # return self to enable method chaining\n",
    "\n",
    "emp = Employee(\"John\", 30)\n",
    "emp.set_name(\"Maria\").set_age(25)\n",
    "print(emp.name) \n",
    "print(emp.age)   "
   ]
  },
  {
   "cell_type": "markdown",
   "id": "84dd4908-503e-49b6-9aca-ce99edf8e621",
   "metadata": {},
   "source": [
    "In summary, self is used in OOPs to access class attributes and methods, differentiate between instance variables and local variables, and enable method chaining."
   ]
  },
  {
   "cell_type": "markdown",
   "id": "59d0b224-b74c-4800-9091-fdca87f26fcd",
   "metadata": {},
   "source": [
    " **Q5**. What is inheritance? Give an example for each type of inheritance."
   ]
  },
  {
   "cell_type": "markdown",
   "id": "bc36e2f2-1774-4299-8d1f-ce6f9b2041bd",
   "metadata": {},
   "source": [
    "Inheritance is a mechanism that allows a child class to inherit the properties and behavior of a parent class. The child class can then extend or modify the behavior of the parent class, while still retaining its core functionality. \n",
    "Here are examples of each type of inheritance in Python:"
   ]
  },
  {
   "cell_type": "markdown",
   "id": "0b917515-7194-4fb0-a335-a5b84a09e1c6",
   "metadata": {},
   "source": [
    "1.Single Inheritance: In single inheritance, a child class inherits from a single parent class.\n"
   ]
  },
  {
   "cell_type": "code",
   "execution_count": 6,
   "id": "4d9526f4-6627-48ef-95c3-e3ee7278efda",
   "metadata": {},
   "outputs": [
    {
     "name": "stdout",
     "output_type": "stream",
     "text": [
      "The dog barks.\n"
     ]
    }
   ],
   "source": [
    "class Animal:\n",
    "    def __init__(self, name):\n",
    "        self.name = name\n",
    "\n",
    "    def sound(self):\n",
    "        print(\"The animal makes a sound.\")\n",
    "\n",
    "class Dog(Animal):\n",
    "    def sound(self):\n",
    "        print(\"The dog barks.\")\n",
    "\n",
    "my_dog = Dog(\"Jerry\")\n",
    "my_dog.sound()  \n",
    "\n",
    "#In this example, the Dog class inherits from the Animal class and overrides the sound method."
   ]
  },
  {
   "cell_type": "markdown",
   "id": "ea6d34da-35b4-4a76-b40d-e096f247fce9",
   "metadata": {},
   "source": [
    "2. Multiple Inheritance: In multiple inheritance, a child class can inherit from more than one parent class."
   ]
  },
  {
   "cell_type": "code",
   "execution_count": 7,
   "id": "408bdf16-d991-4d0c-8398-16721e673894",
   "metadata": {},
   "outputs": [
    {
     "name": "stdout",
     "output_type": "stream",
     "text": [
      "I can fly.\n",
      "I can eat.\n"
     ]
    }
   ],
   "source": [
    "class Flyable:\n",
    "    def fly(self):\n",
    "        print(\"I can fly.\")\n",
    "\n",
    "class Mammal:\n",
    "    def eat(self):\n",
    "        print(\"I can eat.\")\n",
    "\n",
    "class Bat(Flyable, Mammal):\n",
    "    pass\n",
    "\n",
    "my_bat = Bat()\n",
    "my_bat.fly()  \n",
    "my_bat.eat()                    #In this example, the Bat class inherits from both the Flyable and Mammal classes."
   ]
  },
  {
   "cell_type": "markdown",
   "id": "5631bd00-de9c-4f57-96af-78f33fc2ea99",
   "metadata": {},
   "source": [
    "3. Multilevel Inheritance: In multilevel inheritance, a child class can inherit from a parent class that itself inherits from another parent class."
   ]
  },
  {
   "cell_type": "code",
   "execution_count": 9,
   "id": "86a8cd29-6eaa-4311-bfc0-426aa8f9a72c",
   "metadata": {},
   "outputs": [
    {
     "name": "stdout",
     "output_type": "stream",
     "text": [
      "The dog barks.\n",
      "I can eat.\n"
     ]
    }
   ],
   "source": [
    "class Animal:\n",
    "    def __init__(self, name):\n",
    "        self.name = name\n",
    "\n",
    "    def sound(self):\n",
    "        print(\"The animal makes a sound.\")\n",
    "\n",
    "class Mammal(Animal):\n",
    "    def eat(self):\n",
    "        print(\"I can eat.\")\n",
    "\n",
    "class Dog(Mammal):\n",
    "    def sound(self):\n",
    "        print(\"The dog barks.\")\n",
    "\n",
    "my_dog = Dog(\"Fido\")\n",
    "my_dog.sound() \n",
    "my_dog.eat()            #In this example, the Dog class inherits from the Mammal class, which itself inherits from the Animal class."
   ]
  },
  {
   "cell_type": "markdown",
   "id": "bd86a4fb-014d-4f67-82c3-1c3fbe98653a",
   "metadata": {},
   "source": [
    "Inheritance in Python allows for code reuse and facilitates the creation of a hierarchy of classes that share common attributes and behavior. It also enables polymorphism, where a child class can be used in place of a parent class, allowing for more flexible and modular code."
   ]
  },
  {
   "cell_type": "code",
   "execution_count": 1,
   "id": "0f57474e-b8c9-48be-b0c5-991a30214342",
   "metadata": {},
   "outputs": [
    {
     "name": "stdin",
     "output_type": "stream",
     "text": [
      "Enter a Number 10\n"
     ]
    },
    {
     "name": "stdout",
     "output_type": "stream",
     "text": [
      "100\n",
      "80\n",
      "60\n",
      "40\n",
      "20\n",
      "0\n"
     ]
    }
   ],
   "source": [
    "a= int (input ('Enter a Number'))\n",
    "i=a\n",
    "while i>=0:\n",
    "    print(a*i)\n",
    "    i=i-2"
   ]
  },
  {
   "cell_type": "code",
   "execution_count": 6,
   "id": "9fd353cd-9fc6-43be-829a-cc43ba65b513",
   "metadata": {},
   "outputs": [
    {
     "name": "stdin",
     "output_type": "stream",
     "text": [
      "Enter a Number 10\n"
     ]
    },
    {
     "name": "stdout",
     "output_type": "stream",
     "text": [
      "100\n",
      "80\n",
      "60\n",
      "40\n",
      "20\n",
      "0\n"
     ]
    }
   ],
   "source": [
    "a = int(input('Enter a Number'))\n",
    "for i in range(a, -1, -2):\n",
    "    print(a * i)"
   ]
  },
  {
   "cell_type": "code",
   "execution_count": null,
   "id": "659e694e-b7e9-4f6f-9db3-dc2abfe45d68",
   "metadata": {},
   "outputs": [],
   "source": []
  }
 ],
 "metadata": {
  "kernelspec": {
   "display_name": "Python 3 (ipykernel)",
   "language": "python",
   "name": "python3"
  },
  "language_info": {
   "codemirror_mode": {
    "name": "ipython",
    "version": 3
   },
   "file_extension": ".py",
   "mimetype": "text/x-python",
   "name": "python",
   "nbconvert_exporter": "python",
   "pygments_lexer": "ipython3",
   "version": "3.10.8"
  }
 },
 "nbformat": 4,
 "nbformat_minor": 5
}
