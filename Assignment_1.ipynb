{
 "cells": [
  {
   "cell_type": "code",
   "execution_count": 5,
   "id": "4402c242-267a-4f6d-9f7b-ef2871adb245",
   "metadata": {},
   "outputs": [],
   "source": [
    "#Q1. Create one variable containing following type of data:\n",
    "#(i) string\n",
    "#(ii) list\n",
    "#(iii) float\n",
    "#(iv) tuple"
   ]
  },
  {
   "cell_type": "code",
   "execution_count": 28,
   "id": "cd6ec4eb-68ff-43c8-adf2-8c33692e2980",
   "metadata": {},
   "outputs": [],
   "source": [
    "T=('String', [5,4.32,True,'l',1+2j], 3.35, (1,2,'2nd Tuple',[1,2,]))"
   ]
  },
  {
   "cell_type": "code",
   "execution_count": 29,
   "id": "c20fbacc-563a-4b82-8fa4-ccde3e7a43a9",
   "metadata": {},
   "outputs": [
    {
     "data": {
      "text/plain": [
       "('String', [5, 4.32, True, 'l', (1+2j)], 3.35, (1, 2, '2nd Tuple', [1, 2]))"
      ]
     },
     "execution_count": 29,
     "metadata": {},
     "output_type": "execute_result"
    }
   ],
   "source": [
    "T"
   ]
  },
  {
   "cell_type": "code",
   "execution_count": null,
   "id": "57f2e606-76d7-426d-a4b7-3286f3fc9efe",
   "metadata": {},
   "outputs": [],
   "source": [
    "#Q2. Given are some following variables containing data:\n",
    "#(i) var1 = ‘ ‘\n",
    "#(ii) var2 = ‘[ DS , ML , Python]’\n",
    "#(iii) var3 = [ ‘DS’ , ’ML’ , ‘Python’ ]\n",
    "#(iv) var4 = 1.\n",
    "#What will be the data type of the above given variable."
   ]
  },
  {
   "cell_type": "code",
   "execution_count": 41,
   "id": "6e5f0867-bee4-4b8c-b12f-fd549bb535a8",
   "metadata": {},
   "outputs": [
    {
     "name": "stdout",
     "output_type": "stream",
     "text": [
      "Element: 42\n",
      "<class 'int'>\n",
      "Element: Hello\n",
      "<class 'str'>\n",
      "Element: 3.14\n",
      "<class 'float'>\n",
      "Element: True\n",
      "<class 'bool'>\n",
      "Element: [1, 2, 3]\n",
      "<class 'list'>\n",
      "Element: {'name': 'Alice', 'age': 30}\n",
      "<class 'dict'>\n",
      "Element: None\n",
      "<class 'NoneType'>\n",
      "Element: (4, 5)\n",
      "<class 'tuple'>\n",
      "Element: {'banana', 'apple'}\n",
      "<class 'set'>\n",
      "Element: 99.9\n",
      "<class 'float'>\n"
     ]
    }
   ],
   "source": [
    "l = [42, \"Hello\", 3.14, True, [1, 2, 3], {\"name\": \"Alice\", \"age\": 30}, None, (4, 5), {\"apple\", \"banana\"}, 99.9]\n",
    "\n",
    "for i in l:\n",
    "    print('Element:',(i))\n",
    "    print (type (i))\n"
   ]
  },
  {
   "cell_type": "markdown",
   "id": "270c80a1-15d5-40b7-9c94-29c5d475e966",
   "metadata": {},
   "source": [
    "Q3. Explain the use of the following operators using an example:\n",
    "(i) /\n",
    "(ii) %\n",
    "(iii) //\n",
    "(iv) **"
   ]
  },
  {
   "cell_type": "markdown",
   "id": "0217cf66-6987-4053-a54d-471ed744aeee",
   "metadata": {},
   "source": [
    "The / operator is used to perform division operations. \n",
    "  Eg. result = 7 / 2\n",
    "      print(result)  # Output: 3.5\n",
    "(ii) The % operator is used for the modulo operation, which returns the remainder when one number is divided by another. \n",
    "    Eg. result = 7 % 3\n",
    "        print(result)  # Output: 1\n",
    "  Eg 2. for i in range(10):\n",
    "        print(i % 3)\n",
    "Output.\n",
    "0\n",
    "1\n",
    "2\n",
    "0\n",
    "1\n",
    "2\n",
    "0\n",
    "1\n",
    "2\n",
    "0\n",
    "\n",
    "(iii) The // operator is used for floor division. Floor division returns the largest integer that is less than or equal to the result of dividing one number by another. \n",
    " Eg. result = 7 // 3\n",
    "    print(result)  # Output: 2\n",
    "(iv)  The ** operator is used for exponentiation. It allows us to raise a number to a specified power.\n",
    " Eg. result = 2 ** 3\n",
    "  print(result)  # Output: 8\n"
   ]
  },
  {
   "cell_type": "markdown",
   "id": "c3bf32f1-ca12-4320-a189-64c9b659d94f",
   "metadata": {},
   "source": [
    "Q4. Create a list of length 10 of your choice containing multiple types of data. Using for loop print the\n",
    "element and its data type."
   ]
  },
  {
   "cell_type": "code",
   "execution_count": 1,
   "id": "3be64949-80c3-41fd-b85d-6dc7d8ff2ae6",
   "metadata": {},
   "outputs": [],
   "source": [
    "l = [42, \"Hello\", 3.14, True, [1, 2, 3], {\"name\": \"Alice\", \"age\": 30}, None, (4, 5), {\"apple\", \"banana\"}, 99.9]"
   ]
  },
  {
   "cell_type": "code",
   "execution_count": 3,
   "id": "131dbcde-09b0-4a5e-adfd-a54f2808ae37",
   "metadata": {},
   "outputs": [
    {
     "name": "stdout",
     "output_type": "stream",
     "text": [
      "Element: 42\n",
      "<class 'int'>\n",
      "Element: Hello\n",
      "<class 'str'>\n",
      "Element: 3.14\n",
      "<class 'float'>\n",
      "Element: True\n",
      "<class 'bool'>\n",
      "Element: [1, 2, 3]\n",
      "<class 'list'>\n",
      "Element: {'name': 'Alice', 'age': 30}\n",
      "<class 'dict'>\n",
      "Element: None\n",
      "<class 'NoneType'>\n",
      "Element: (4, 5)\n",
      "<class 'tuple'>\n",
      "Element: {'banana', 'apple'}\n",
      "<class 'set'>\n",
      "Element: 99.9\n",
      "<class 'float'>\n"
     ]
    }
   ],
   "source": [
    "for i in l:\n",
    "    print('Element:',(i))\n",
    "    print (type (i))"
   ]
  },
  {
   "cell_type": "markdown",
   "id": "1fbe062f-c9f9-4fc0-867d-71d16fbee3b3",
   "metadata": {},
   "source": [
    "Q5. Using a while loop, verify if the number A is purely divisible by number B and if so then how many\n",
    "times it can be divisible."
   ]
  },
  {
   "cell_type": "code",
   "execution_count": 7,
   "id": "2f7b1f04-f886-4485-9fd2-9ba6cb432c79",
   "metadata": {},
   "outputs": [
    {
     "name": "stdin",
     "output_type": "stream",
     "text": [
      "Enter the dividend (A):  50\n",
      "Enter the divisor (B):  5\n"
     ]
    },
    {
     "name": "stdout",
     "output_type": "stream",
     "text": [
      "5 does not divide 2 purely. Remainder: 2\n"
     ]
    }
   ],
   "source": [
    "A = int(input(\"Enter the dividend (A): \"))\n",
    "B = int(input(\"Enter the divisor (B): \"))\n",
    "\n",
    "# Initialize a counter for the number of divisions\n",
    "count = 0\n",
    "\n",
    "# Use a while loop to perform divisions until A is no longer divisible by B\n",
    "while A % B == 0:\n",
    "    A = A // B  # Integer division to get the quotient\n",
    "    count += 1\n",
    "\n",
    "# Check if A becomes 0 (purely divisible), and print the result\n",
    "if A == 0:\n",
    "    print(f\"{count} times, {B} divides {A} purely.\")\n",
    "else:\n",
    "    print(f\"{B} does not divide {A} purely. Remainder: {A}\")"
   ]
  },
  {
   "cell_type": "markdown",
   "id": "9568ab3f-0d4a-4188-b527-1d3203299e02",
   "metadata": {},
   "source": [
    "Q6. Create a list containing 25 int type data. Using for loop and if-else condition print if the element is\n",
    "divisible by 3 or not."
   ]
  },
  {
   "cell_type": "code",
   "execution_count": 8,
   "id": "b23c10ac-0976-4e5b-a5ee-880897913246",
   "metadata": {},
   "outputs": [
    {
     "name": "stdout",
     "output_type": "stream",
     "text": [
      "1 is not divisible by 3\n",
      "2 is not divisible by 3\n",
      "3 is divisible by 3\n",
      "4 is not divisible by 3\n",
      "5 is not divisible by 3\n",
      "6 is divisible by 3\n",
      "7 is not divisible by 3\n",
      "8 is not divisible by 3\n",
      "9 is divisible by 3\n",
      "10 is not divisible by 3\n",
      "11 is not divisible by 3\n",
      "12 is divisible by 3\n",
      "13 is not divisible by 3\n",
      "14 is not divisible by 3\n",
      "15 is divisible by 3\n",
      "16 is not divisible by 3\n",
      "17 is not divisible by 3\n",
      "18 is divisible by 3\n",
      "19 is not divisible by 3\n",
      "20 is not divisible by 3\n",
      "21 is divisible by 3\n",
      "22 is not divisible by 3\n",
      "23 is not divisible by 3\n",
      "24 is divisible by 3\n",
      "25 is not divisible by 3\n"
     ]
    }
   ],
   "source": [
    "my_list = list(range(1, 26))\n",
    "\n",
    "# Use a for loop to iterate through the list\n",
    "for num in my_list:\n",
    "    if num % 3 == 0:\n",
    "        print(f\"{num} is divisible by 3\")\n",
    "    else:\n",
    "        print(f\"{num} is not divisible by 3\")\n"
   ]
  },
  {
   "cell_type": "markdown",
   "id": "8a05ed3f-9a68-4ac5-af71-dd9baaa0d830",
   "metadata": {},
   "source": [
    "Q7. What do you understand about mutable and immutable data types? Give examples for both showing\n",
    "this property."
   ]
  },
  {
   "cell_type": "markdown",
   "id": "ceaedef1-39b1-4256-b668-f83c7f67c88a",
   "metadata": {},
   "source": [
    "Mutable and immutable are terms used to describe the characteristics of data types in programming. These characteristics refer to whether the data can be changed after it's created (mutable) or whether it remains constant once created (immutable). "
   ]
  },
  {
   "cell_type": "markdown",
   "id": "ea1e8086-7b0b-49cb-8600-4eeba9339e91",
   "metadata": {},
   "source": [
    "Mutable Data Types:\n",
    "Lists (Mutable): Lists in Python are mutable, which means we can change their contents after creation. We can add, remove, or modify elements in a list."
   ]
  },
  {
   "cell_type": "code",
   "execution_count": 11,
   "id": "f1338aaa-5e97-45eb-b1d8-99a6be89acdf",
   "metadata": {},
   "outputs": [],
   "source": [
    "my_list = [1, 2, 3]"
   ]
  },
  {
   "cell_type": "code",
   "execution_count": 12,
   "id": "089bdb10-d5e6-4a0e-b559-6c0530dc2931",
   "metadata": {},
   "outputs": [
    {
     "data": {
      "text/plain": [
       "[1, 2, 3]"
      ]
     },
     "execution_count": 12,
     "metadata": {},
     "output_type": "execute_result"
    }
   ],
   "source": [
    "my_list"
   ]
  },
  {
   "cell_type": "code",
   "execution_count": 13,
   "id": "36c3edf8-a120-4d6e-b4b8-e2f2635d795b",
   "metadata": {},
   "outputs": [],
   "source": [
    "my_list.append(4)       # Add an element"
   ]
  },
  {
   "cell_type": "code",
   "execution_count": 14,
   "id": "2a83bf74-4236-43b0-9443-0774c2f9a92d",
   "metadata": {},
   "outputs": [
    {
     "data": {
      "text/plain": [
       "[1, 2, 3, 4]"
      ]
     },
     "execution_count": 14,
     "metadata": {},
     "output_type": "execute_result"
    }
   ],
   "source": [
    "my_list"
   ]
  },
  {
   "cell_type": "code",
   "execution_count": 15,
   "id": "816f0237-77bd-4780-a0b7-25bbd95d5242",
   "metadata": {},
   "outputs": [],
   "source": [
    "my_list[0] = 0         # Modify an element"
   ]
  },
  {
   "cell_type": "code",
   "execution_count": 16,
   "id": "a5ebbf81-aa9a-427d-b88e-d912bd15bb7d",
   "metadata": {},
   "outputs": [
    {
     "data": {
      "text/plain": [
       "[0, 2, 3, 4]"
      ]
     },
     "execution_count": 16,
     "metadata": {},
     "output_type": "execute_result"
    }
   ],
   "source": [
    "my_list"
   ]
  },
  {
   "cell_type": "code",
   "execution_count": 17,
   "id": "ace2bee7-dd32-4b54-b706-7ef3d2b29317",
   "metadata": {},
   "outputs": [],
   "source": [
    "my_list.remove(2)      # Remove an element"
   ]
  },
  {
   "cell_type": "code",
   "execution_count": 18,
   "id": "141f8ea3-1acd-4766-bbf3-57cc2ab04289",
   "metadata": {},
   "outputs": [
    {
     "data": {
      "text/plain": [
       "[0, 3, 4]"
      ]
     },
     "execution_count": 18,
     "metadata": {},
     "output_type": "execute_result"
    }
   ],
   "source": [
    "my_list"
   ]
  },
  {
   "cell_type": "markdown",
   "id": "aa55fcd7-f6d7-4ed9-a8c2-c0140f507ed0",
   "metadata": {},
   "source": [
    "Dictionaries (Mutable): Dictionaries in Python are also mutable. We can add, remove, or modify key-value pairs in a dictionary."
   ]
  },
  {
   "cell_type": "code",
   "execution_count": 28,
   "id": "3a02c5dc-0a6c-4e89-bb13-fea92ffc1cd5",
   "metadata": {},
   "outputs": [],
   "source": [
    "my_dict = {\"name\": \"Alice\", \"age\": 30}"
   ]
  },
  {
   "cell_type": "code",
   "execution_count": 29,
   "id": "5e70a9b0-ca08-4ee4-becf-d3e2fee67c22",
   "metadata": {},
   "outputs": [
    {
     "data": {
      "text/plain": [
       "{'name': 'Alice', 'age': 30}"
      ]
     },
     "execution_count": 29,
     "metadata": {},
     "output_type": "execute_result"
    }
   ],
   "source": [
    "my_dict"
   ]
  },
  {
   "cell_type": "code",
   "execution_count": 30,
   "id": "cbbacbfe-531f-4d42-9c5a-edb8c9390507",
   "metadata": {},
   "outputs": [],
   "source": [
    "my_dict[\"age\"] = 31     # Modify a value"
   ]
  },
  {
   "cell_type": "code",
   "execution_count": 31,
   "id": "5887b6e1-31f0-49a7-98e8-fb441745a6e1",
   "metadata": {},
   "outputs": [
    {
     "data": {
      "text/plain": [
       "{'name': 'Alice', 'age': 31}"
      ]
     },
     "execution_count": 31,
     "metadata": {},
     "output_type": "execute_result"
    }
   ],
   "source": [
    "my_dict"
   ]
  },
  {
   "cell_type": "code",
   "execution_count": 32,
   "id": "800f9109-9223-49ec-959f-34cdad6942f9",
   "metadata": {},
   "outputs": [],
   "source": [
    "my_dict[\"city\"] = \"XYZ\" # Add a new key-value pair"
   ]
  },
  {
   "cell_type": "code",
   "execution_count": 33,
   "id": "1e0bf663-35b1-46fc-a3ae-6bf4b671265f",
   "metadata": {},
   "outputs": [
    {
     "data": {
      "text/plain": [
       "{'name': 'Alice', 'age': 31, 'city': 'XYZ'}"
      ]
     },
     "execution_count": 33,
     "metadata": {},
     "output_type": "execute_result"
    }
   ],
   "source": [
    "my_dict"
   ]
  },
  {
   "cell_type": "code",
   "execution_count": 34,
   "id": "d94ca601-95cf-4ada-b5f5-93eccb7a2875",
   "metadata": {},
   "outputs": [],
   "source": [
    "del my_dict[\"age\"]      # Remove a key-value pair"
   ]
  },
  {
   "cell_type": "code",
   "execution_count": 35,
   "id": "70a1f0d4-d5ac-4625-b8d2-6028e837082c",
   "metadata": {},
   "outputs": [
    {
     "data": {
      "text/plain": [
       "{'name': 'Alice', 'city': 'XYZ'}"
      ]
     },
     "execution_count": 35,
     "metadata": {},
     "output_type": "execute_result"
    }
   ],
   "source": [
    "my_dict"
   ]
  },
  {
   "cell_type": "markdown",
   "id": "2b338f21-382f-484a-b792-2161a2d1a1ff",
   "metadata": {},
   "source": [
    "Sets (Mutable): Sets in Python are mutable. You can add or remove elements from a set."
   ]
  },
  {
   "cell_type": "code",
   "execution_count": 37,
   "id": "adb301d4-60f1-4152-99fd-401474dac115",
   "metadata": {},
   "outputs": [],
   "source": [
    "my_set = {1, 2, 3}"
   ]
  },
  {
   "cell_type": "code",
   "execution_count": 38,
   "id": "5c89645c-c165-488b-becf-4291fd9d68f9",
   "metadata": {},
   "outputs": [
    {
     "data": {
      "text/plain": [
       "{1, 2, 3}"
      ]
     },
     "execution_count": 38,
     "metadata": {},
     "output_type": "execute_result"
    }
   ],
   "source": [
    "my_set"
   ]
  },
  {
   "cell_type": "code",
   "execution_count": 39,
   "id": "98f467f3-f120-4a27-a615-2c5c1838eef0",
   "metadata": {},
   "outputs": [],
   "source": [
    "my_set.add(4)    # Add an element"
   ]
  },
  {
   "cell_type": "code",
   "execution_count": 40,
   "id": "f5a52d6a-fabb-40dc-838b-c3c280374b6d",
   "metadata": {},
   "outputs": [
    {
     "data": {
      "text/plain": [
       "{1, 2, 3, 4}"
      ]
     },
     "execution_count": 40,
     "metadata": {},
     "output_type": "execute_result"
    }
   ],
   "source": [
    "my_set"
   ]
  },
  {
   "cell_type": "code",
   "execution_count": 41,
   "id": "d5ec2372-7cab-4de4-a425-d6e3d3770c08",
   "metadata": {},
   "outputs": [],
   "source": [
    "my_set.remove(2) # Remove an element"
   ]
  },
  {
   "cell_type": "code",
   "execution_count": 42,
   "id": "427eece1-0b00-4aa7-9a97-5a4b30e128d6",
   "metadata": {},
   "outputs": [
    {
     "data": {
      "text/plain": [
       "{1, 3, 4}"
      ]
     },
     "execution_count": 42,
     "metadata": {},
     "output_type": "execute_result"
    }
   ],
   "source": [
    "my_set"
   ]
  },
  {
   "cell_type": "markdown",
   "id": "570aefa1-016d-49f7-a158-289728ae35fa",
   "metadata": {},
   "source": [
    "Immutable Data Types:\n",
    "Integers (Immutable): Integer values cannot be changed once they are assigned.\n",
    "my_int = 5\n",
    " Attempting to change the value of my_int will result in an error."
   ]
  },
  {
   "cell_type": "code",
   "execution_count": 43,
   "id": "a6bda965-42fa-4c02-85a8-089a08619ddd",
   "metadata": {},
   "outputs": [],
   "source": [
    "my_int = 5"
   ]
  },
  {
   "cell_type": "code",
   "execution_count": 44,
   "id": "ba515f40-f09e-4b61-8ea1-6e371d4a2402",
   "metadata": {},
   "outputs": [
    {
     "data": {
      "text/plain": [
       "5"
      ]
     },
     "execution_count": 44,
     "metadata": {},
     "output_type": "execute_result"
    }
   ],
   "source": [
    "my_int"
   ]
  },
  {
   "cell_type": "code",
   "execution_count": 45,
   "id": "e4b8195f-543f-4652-8f53-7bf26d2f6fcd",
   "metadata": {},
   "outputs": [
    {
     "ename": "AttributeError",
     "evalue": "'int' object has no attribute 'add'",
     "output_type": "error",
     "traceback": [
      "\u001b[0;31m---------------------------------------------------------------------------\u001b[0m",
      "\u001b[0;31mAttributeError\u001b[0m                            Traceback (most recent call last)",
      "Cell \u001b[0;32mIn[45], line 1\u001b[0m\n\u001b[0;32m----> 1\u001b[0m \u001b[43mmy_int\u001b[49m\u001b[38;5;241;43m.\u001b[39;49m\u001b[43madd\u001b[49m(\u001b[38;5;241m2\u001b[39m)\n",
      "\u001b[0;31mAttributeError\u001b[0m: 'int' object has no attribute 'add'"
     ]
    }
   ],
   "source": [
    "my_int.add(2)"
   ]
  },
  {
   "cell_type": "markdown",
   "id": "3d3abfc5-24b3-441e-8bf9-7eb4b9655168",
   "metadata": {},
   "source": [
    "Strings (Immutable): Strings are also immutable. We cannot change individual characters in a string.\n",
    "my_str = \"Hello\"\n",
    "Attempting to change my_str[0] to a different character will result in an error."
   ]
  },
  {
   "cell_type": "code",
   "execution_count": 46,
   "id": "0703e1ce-685c-4534-970a-e105640561e9",
   "metadata": {},
   "outputs": [],
   "source": [
    "my_tuple = (1, 2, 3)\n",
    "#Attempting to modify an element of my_tuple will result in an error."
   ]
  },
  {
   "cell_type": "code",
   "execution_count": 47,
   "id": "8e51f051-e495-47cb-93ad-90fb4fd2ffb3",
   "metadata": {},
   "outputs": [
    {
     "data": {
      "text/plain": [
       "(1, 2, 3)"
      ]
     },
     "execution_count": 47,
     "metadata": {},
     "output_type": "execute_result"
    }
   ],
   "source": [
    "my_tuple"
   ]
  },
  {
   "cell_type": "markdown",
   "id": "fb69b919-8592-490a-836a-6907810a8bd8",
   "metadata": {},
   "source": [
    "Frozen Sets (Immutable): Frozen sets are sets that are immutable. Once created, you cannot add or remove elements from them."
   ]
  },
  {
   "cell_type": "code",
   "execution_count": 50,
   "id": "5ec1c16e-f359-40c5-a6c5-8451c09de28b",
   "metadata": {},
   "outputs": [],
   "source": [
    "my_frozen_set = frozenset({1, 2, 3})\n",
    "# Attempting to add or remove elements from my_frozen_set will result in an error."
   ]
  },
  {
   "cell_type": "code",
   "execution_count": 51,
   "id": "7bc91ab8-0a0f-4019-aebe-699761979321",
   "metadata": {},
   "outputs": [
    {
     "data": {
      "text/plain": [
       "frozenset({1, 2, 3})"
      ]
     },
     "execution_count": 51,
     "metadata": {},
     "output_type": "execute_result"
    }
   ],
   "source": [
    "my_frozen_set"
   ]
  },
  {
   "cell_type": "markdown",
   "id": "db294443-86cb-4112-86de-5d14e082a770",
   "metadata": {},
   "source": [
    "The mutability or immutability of a data type affects how you can use and manipulate data in your Python programs. Mutable data types allow for in-place modifications, while immutable data types ensure data integrity and safety by preventing unintended changes."
   ]
  }
 ],
 "metadata": {
  "kernelspec": {
   "display_name": "Python 3 (ipykernel)",
   "language": "python",
   "name": "python3"
  },
  "language_info": {
   "codemirror_mode": {
    "name": "ipython",
    "version": 3
   },
   "file_extension": ".py",
   "mimetype": "text/x-python",
   "name": "python",
   "nbconvert_exporter": "python",
   "pygments_lexer": "ipython3",
   "version": "3.10.8"
  }
 },
 "nbformat": 4,
 "nbformat_minor": 5
}
