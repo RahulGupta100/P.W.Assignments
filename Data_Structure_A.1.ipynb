{
 "cells": [
  {
   "cell_type": "markdown",
   "id": "428aa307-7926-4260-812a-7bbe547883db",
   "metadata": {},
   "source": [
    " **Q1.** Which keyword is used to create a function? Create a function to return a list of odd numbers in the \n",
    "range of 1 to 25."
   ]
  },
  {
   "cell_type": "raw",
   "id": "d33d2c43-c39b-48b7-b952-0bdc5c855db0",
   "metadata": {},
   "source": [
    "In python def () keyword in used to create a function."
   ]
  },
  {
   "cell_type": "code",
   "execution_count": 15,
   "id": "070a82db-c1c5-43e1-a9d0-1a93700be8d7",
   "metadata": {},
   "outputs": [
    {
     "name": "stdout",
     "output_type": "stream",
     "text": [
      "[1, 3, 5, 7, 9, 11, 13, 15, 17, 19, 21, 23, 25]\n"
     ]
    }
   ],
   "source": [
    "def get_odd_numbers () :\n",
    "    return [ num for num in range(1,26) if num %2 != 0]\n",
    "print (get_odd_numbers () )"
   ]
  },
  {
   "cell_type": "markdown",
   "id": "19eebb2b-693b-4fae-b45b-daab06f912a1",
   "metadata": {},
   "source": [
    " **Q2.** Why *args and **kwargs is used in some functions? Create a function each for *args and **kwargs \n",
    "to demonstrate their use."
   ]
  },
  {
   "cell_type": "markdown",
   "id": "133f2e37-d133-4f38-9ffb-41a1942383fe",
   "metadata": {},
   "source": [
    "In Python, `*args` and `**kwargs` are special syntaxes used to pass a variable number of arguments to a function.\n",
    "\n",
    "**`*args`**:\n",
    "`*args` is used to pass a non-keyworded, variable-length argument list to a function. It allows a function to accept a variable number of arguments as a tuple."
   ]
  },
  {
   "cell_type": "code",
   "execution_count": 2,
   "id": "d45ff6d5-116a-410c-ba86-6811eb6b45f0",
   "metadata": {},
   "outputs": [
    {
     "name": "stdout",
     "output_type": "stream",
     "text": [
      "15\n"
     ]
    }
   ],
   "source": [
    "#Here's an example function that demonstrates the use of `*args`:\n",
    "\n",
    "def sum_numbers(*args):\n",
    "    total = 0\n",
    "    for num in args:\n",
    "        total += num\n",
    "    return total\n",
    "\n",
    "result = sum_numbers(1, 2, 3, 4, 5)\n",
    "print(result) \n",
    "#In this example, the `sum_numbers()` function takes a variable number of arguments using `*args`. The `args` variable is a tuple that contains all the passed arguments. The function then iterates over the tuple and sums up the numbers."
   ]
  },
  {
   "cell_type": "markdown",
   "id": "4b569567-c59f-4a87-b279-251873a5f632",
   "metadata": {},
   "source": [
    "**`**kwargs`**:\n",
    "`**kwargs` is used to pass a keyworded, variable-length argument list to a function. It allows a function to accept a variable number of keyword arguments as a dictionary."
   ]
  },
  {
   "cell_type": "code",
   "execution_count": 12,
   "id": "9ecef6b5-e567-407e-a031-1e2e084b779f",
   "metadata": {},
   "outputs": [
    {
     "name": "stdout",
     "output_type": "stream",
     "text": [
      "Hello, Rahul!\n",
      "You are 25 years old.\n",
      "You are from Darjeeling.\n"
     ]
    }
   ],
   "source": [
    "#Here's an example function that demonstrates the use of `**kwargs`:\n",
    "\n",
    "def greet(**kwargs):\n",
    "    if 'name' in kwargs:\n",
    "        print(f\"Hello, {kwargs['name']}!\")\n",
    "    if 'age' in kwargs:\n",
    "        print(f\"You are {kwargs['age']} years old.\")\n",
    "    if 'city' in kwargs:\n",
    "        print(f\"You are from {kwargs['city']}.\")\n",
    "\n",
    "greet(name=\"Rahul\", age=25, city=\"Darjeeling\")"
   ]
  },
  {
   "cell_type": "markdown",
   "id": "72155674-5596-4675-b61c-3f1d0347cc13",
   "metadata": {},
   "source": [
    "In this example, the `greet()` function takes a variable number of keyword arguments using `**kwargs`. The `kwargs` variable is a dictionary that contains all the passed keyword arguments. The function then checks if certain keys are present in the dictionary and prints out a personalized greeting message.\n",
    "\n",
    "Note that you can use both `*args` and `**kwargs` in the same function definition, like this:\n",
    "```\n",
    "def my_function(*args, **kwargs):\n",
    "    # do something with args and kwargs\n",
    "    pass\n",
    "```\n",
    "This allows the function to accept both non-keyworded and keyworded arguments."
   ]
  },
  {
   "cell_type": "markdown",
   "id": "da54f9d5-f99e-413f-9c0d-0b70c8002032",
   "metadata": {},
   "source": [
    "**Q3**.  What is an iterator in python? Name the method used to initialise the iterator object and the method \n",
    "used for iteration. Use these methods to print the first five elements of the given list [2, 4, 6, 8, 10, 12, 14, \n",
    "16, 18, 20]."
   ]
  },
  {
   "cell_type": "markdown",
   "id": "d7aff68e-b9d7-4711-a064-cfe191dde1f7",
   "metadata": {},
   "source": [
    "In Python, an **iterator** is an object that allows you to iterate over a sequence (such as a list, tuple, or string) one element at a time. An iterator provides a way to access the elements of a sequence without having to store the entire sequence in memory.\n",
    "\n",
    "To initialize an iterator object, you use the `iter()` method.\n",
    "\n",
    "To iterate over the elements of an iterator, you use the `next()` method."
   ]
  },
  {
   "cell_type": "code",
   "execution_count": 13,
   "id": "624fb248-e80d-4629-a148-8e49991f9f34",
   "metadata": {},
   "outputs": [
    {
     "name": "stdout",
     "output_type": "stream",
     "text": [
      "2\n",
      "4\n",
      "6\n",
      "8\n",
      "10\n"
     ]
    }
   ],
   "source": [
    "#Here's an example:\n",
    "\n",
    "my_list = [2, 4, 6, 8, 10, 12, 14, 16, 18, 20]\n",
    "\n",
    "# Initialize the iterator object\n",
    "my_iterator = iter(my_list)\n",
    "\n",
    "# Iterate over the first 5 elements\n",
    "for _ in range(5):\n",
    "    print(next(my_iterator))"
   ]
  },
  {
   "cell_type": "markdown",
   "id": "906454b7-8748-4c3c-8e6b-5d36293b93cd",
   "metadata": {},
   "source": [
    "In this example, we create an iterator object `my_iterator` from the list `my_list` using the `iter()` method. Then, we use a `for` loop to iterate over the first 5 elements of the iterator using the `next()` method. The `next()` method returns the next element from the iterator, and we print it to the console.\n",
    "\n",
    "Note that if you try to call `next()` again after the iterator has exhausted all its elements, it will raise a `StopIteration` exception.\n",
    "\n",
    "Alternatively, you can use a `for` loop to iterate over the entire iterator, like this:"
   ]
  },
  {
   "cell_type": "code",
   "execution_count": 14,
   "id": "89b44d05-6bd9-4c19-9631-8a039ea32d36",
   "metadata": {},
   "outputs": [
    {
     "name": "stdout",
     "output_type": "stream",
     "text": [
      "2\n",
      "4\n",
      "6\n",
      "8\n",
      "10\n",
      "12\n",
      "14\n",
      "16\n",
      "18\n",
      "20\n"
     ]
    }
   ],
   "source": [
    "my_list = [2, 4, 6, 8, 10, 12, 14, 16, 18, 20]\n",
    "\n",
    "# Initialize the iterator object\n",
    "my_iterator = iter(my_list)\n",
    "\n",
    "# Iterate over the entire iterator\n",
    "for element in my_iterator:\n",
    "    print(element)\n",
    "\n",
    "#This will print all the elements of the list."
   ]
  },
  {
   "cell_type": "markdown",
   "id": "5e729f4a-b612-4ad8-9e48-e8beb4a237d8",
   "metadata": {},
   "source": [
    "**Q4.**  What is a generator function in python? Why yield keyword is used? Give an example of a generator \n",
    "function"
   ]
  },
  {
   "cell_type": "markdown",
   "id": "063f8d07-fc32-470a-8baf-004da1efa798",
   "metadata": {},
   "source": [
    "In Python, a **generator function** is a special type of function that returns an iterator, which allows you to generate a sequence of values on the fly, without storing them all in memory at once. A generator function is defined using the `yield` keyword.\n",
    "\n",
    "A generator function is useful when you need to generate a large sequence of values, but you don't want to store them all in memory at once. Instead, you can use a generator function to generate the values one at a time, as needed.\n",
    "\n",
    "The `yield` keyword is used to define a generator function. When a generator function is called, it returns an iterator object, which can be used to iterate over the generated values. The `yield` keyword is used to produce a value from the generator function, and it suspends the function's execution until the next value is requested.\n",
    "\n",
    "Here's an example of a generator function:"
   ]
  },
  {
   "cell_type": "code",
   "execution_count": 15,
   "id": "03bcaf1f-d340-46ed-bb87-2b4e99a7abef",
   "metadata": {},
   "outputs": [
    {
     "name": "stdout",
     "output_type": "stream",
     "text": [
      "0\n",
      "1\n",
      "1\n",
      "2\n",
      "3\n",
      "5\n",
      "8\n",
      "13\n",
      "21\n",
      "34\n"
     ]
    }
   ],
   "source": [
    "def fibonacci(n):\n",
    "    a, b = 0, 1\n",
    "    for _ in range(n):\n",
    "        yield a\n",
    "        a, b = b, a + b\n",
    "\n",
    "# Create a generator object\n",
    "fib_gen = fibonacci(10)\n",
    "\n",
    "# Iterate over the generated values\n",
    "for num in fib_gen:\n",
    "    print(num)"
   ]
  },
  {
   "cell_type": "markdown",
   "id": "3bb7271c-0c34-46dd-ad70-f8552836eb1a",
   "metadata": {},
   "source": [
    "In this example, the `fibonacci` function is a generator function that generates the first `n` Fibonacci numbers. The function uses a loop to generate the values, and the `yield` keyword is used to produce each value. The `fib_gen` variable is an iterator object that is created by calling the `fibonacci` function.\n",
    "\n",
    "When we iterate over the `fib_gen` iterator using a `for` loop, the generator function is executed until it reaches the `yield` statement, at which point it suspends its execution and returns the current value. The loop then prints the value, and the generator function resumes its execution from where it left off, generating the next value.\n",
    "\n",
    "Note that generator functions are lazy, meaning they only generate values when they are actually needed. This makes them very memory-efficient, especially when working with large datasets.\n",
    "\n",
    "Also, generator functions can be used with other Python constructs, such as list comprehensions, to create efficient and concise code. For example:\n",
    "```\n",
    "fib_list = [num for num in fibonacci(10)]\n",
    "print(fib_list)\n",
    "```\n",
    "This will create a list of the first 10 Fibonacci numbers, using the `fibonacci` generator function."
   ]
  },
  {
   "cell_type": "markdown",
   "id": "9385d1ad-5062-469b-b555-7547af2cb839",
   "metadata": {},
   "source": [
    "**Q5**. Create a generator function for prime numbers less than 1000. Use the next() method to print the \n",
    "first 20 prime numbers."
   ]
  },
  {
   "cell_type": "markdown",
   "id": "ff897721-654c-47aa-8b56-b9a830ff237a",
   "metadata": {},
   "source": [
    "Here's an example of a generator function that generates prime numbers less than 1000:"
   ]
  },
  {
   "cell_type": "code",
   "execution_count": 27,
   "id": "8cd13195-5d37-4b9d-a825-1e5e322c9cac",
   "metadata": {},
   "outputs": [
    {
     "name": "stdout",
     "output_type": "stream",
     "text": [
      "2\n",
      "3\n",
      "5\n",
      "7\n",
      "11\n",
      "13\n",
      "17\n",
      "19\n",
      "23\n",
      "29\n",
      "31\n",
      "37\n",
      "41\n",
      "43\n",
      "47\n",
      "53\n",
      "59\n",
      "61\n",
      "67\n",
      "71\n"
     ]
    }
   ],
   "source": [
    "def is_prime(num):\n",
    "    if num < 2:\n",
    "        return False\n",
    "    for i in range(2, int(num ** 0.5) + 1):\n",
    "        if num % i == 0:\n",
    "            return False\n",
    "    return True\n",
    "\n",
    "def prime_numbers():\n",
    "    num = 2\n",
    "    while True:\n",
    "        if is_prime(num):\n",
    "            yield num\n",
    "        num += 1\n",
    "\n",
    "prime_gen = prime_numbers()\n",
    "for i in range(20):\n",
    "    print(next(prime_gen))"
   ]
  },
  {
   "cell_type": "markdown",
   "id": "9bc1b677-40ac-4548-b3b3-242b69b5ecb0",
   "metadata": {},
   "source": [
    "\n",
    "This code defines a generator function `prime_numbers` that generates prime numbers on the fly. The `is_prime` function is a helper function that checks if a given number is prime.\n",
    "\n",
    "The `prime_numbers` generator function uses a loop to iterate over numbers starting from 2, and uses the `is_prime` function to check if each number is prime. If a number is prime, it is yielded using the `yield` keyword.\n",
    "\n",
    "The `next` function is used to retrieve the next prime number from the generator. The `for` loop iterates 20 times, printing the first 20 prime numbers."
   ]
  },
  {
   "cell_type": "markdown",
   "id": "e512e4ac-b113-4595-816f-bc9b3eb91890",
   "metadata": {},
   "source": [
    " **Q6**. Write a python program to print the first 10 Fibonacci numbers using a while loop.\n"
   ]
  },
  {
   "cell_type": "code",
   "execution_count": 28,
   "id": "ccb48b2a-0b19-4035-b4a5-ae2151b99cc1",
   "metadata": {},
   "outputs": [
    {
     "name": "stdout",
     "output_type": "stream",
     "text": [
      "0\n",
      "1\n",
      "1\n",
      "2\n",
      "3\n",
      "5\n",
      "8\n",
      "13\n",
      "21\n",
      "34\n"
     ]
    }
   ],
   "source": [
    "#Here's an example of a Python program that prints the first 10 Fibonacci numbers using a `while` loop:\n",
    "\n",
    "def fibonacci():\n",
    "    a, b = 0, 1\n",
    "    while True:\n",
    "        yield a\n",
    "        a, b = b, a + b\n",
    "\n",
    "fib_gen = fibonacci()\n",
    "for i in range(10):\n",
    "    print(next(fib_gen))"
   ]
  },
  {
   "cell_type": "markdown",
   "id": "088448e4-10f1-4fdc-a322-cd209969067a",
   "metadata": {},
   "source": [
    "This code defines a generator function `fibonacci` that generates Fibonacci numbers on the fly. The fibonacci generator function uses a `while` loop to iterate over Fibonacci numbers.\n",
    "\n",
    "The `fibonacci` generator function uses two variables `a` and `b` to keep track of the current and next Fibonacci numbers. At each iteration, it yields the current Fibonacci number `a`, and then updates `a` and `b` to be the next Fibonacci number `b` and the sum of the current and next Fibonacci numbers `a + b`, respectively.\n",
    "\n",
    "The `next` function is used to retrieve the next Fibonacci number from the generator. The `for` loop iterates 10 times, printing the first 10 Fibonacci numbers."
   ]
  },
  {
   "cell_type": "markdown",
   "id": "7cf4454e-e373-4e8b-bd5f-e012d807258e",
   "metadata": {},
   "source": [
    "**Q7**. Write a List Comprehension to iterate through the given string: ‘pwskills’.\n",
    " Expected output: ['p', 'w', 's', 'k', 'i', 'l', 'l', 's'] "
   ]
  },
  {
   "cell_type": "code",
   "execution_count": 29,
   "id": "e8791dad-3d1a-4f41-9549-6117c6831764",
   "metadata": {},
   "outputs": [
    {
     "data": {
      "text/plain": [
       "['p', 'w', 's', 'k', 'i', 'l', 'l', 's']"
      ]
     },
     "execution_count": 29,
     "metadata": {},
     "output_type": "execute_result"
    }
   ],
   "source": [
    "#Here is a list comprehension that iterates through the given string 'pwskills' and returns a list of individual characters:\n",
    "\n",
    "[char for char in 'pwskills']"
   ]
  },
  {
   "cell_type": "markdown",
   "id": "3d80d29e-aec0-4278-9641-bafa1bc991f7",
   "metadata": {},
   "source": [
    "Explanation:\n",
    "`char` for char in `pwskills` is the iteration part of the list comprehension, where `char` is the variable that takes on the value of each character in the string 'pwskills' during each iteration.\n",
    " The list comprehension returns a list of these characters.\n",
    "\n",
    "Alternatively, you can also use the `list` function with the string to achieve the same result:\n",
    "\n",
    "list('pwskills')\n",
    "\n",
    "This is because strings in Python are iterable, and the `list` function can take an iterable as an argument and return a list of its elements."
   ]
  },
  {
   "cell_type": "markdown",
   "id": "0258cae0-0e7a-4c4f-b452-3f2f2f2f3692",
   "metadata": {},
   "source": [
    "**Q8.** Write a python program to check whether a given number is Palindrome or not using a while loop."
   ]
  },
  {
   "cell_type": "code",
   "execution_count": 1,
   "id": "02d918ad-72f8-456b-99e6-fb7987058d70",
   "metadata": {},
   "outputs": [
    {
     "name": "stdin",
     "output_type": "stream",
     "text": [
      "Enter a number:  16061\n"
     ]
    },
    {
     "name": "stdout",
     "output_type": "stream",
     "text": [
      "16061 is a Palindrome\n"
     ]
    }
   ],
   "source": [
    "def check_palindrome(n):\n",
    "    original_num = n\n",
    "    reversed_num = 0\n",
    "    while n > 0:\n",
    "        remainder = n % 10\n",
    "        reversed_num = (reversed_num * 10) + remainder\n",
    "        n = n // 10\n",
    "    if original_num == reversed_num:\n",
    "        print(f\"{original_num} is a Palindrome\")\n",
    "    else:\n",
    "        print(f\"{original_num} is not a Palindrome\")\n",
    "\n",
    "# Test the function\n",
    "num = int(input(\"Enter a number: \"))\n",
    "check_palindrome(num)"
   ]
  },
  {
   "cell_type": "markdown",
   "id": "9c171d6c-8146-4b0c-ae2f-a32ef230dc32",
   "metadata": {},
   "source": [
    "Here's how the program works:\n",
    "\n",
    "The function check_palindrome takes an integer n as input.\n",
    "We store the original number in the variable original_num.\n",
    "We initialize a variable reversed_num to 0, which will store the reversed number.\n",
    "We use a while loop to extract the digits of the original number from right to left.\n",
    "In each iteration, we calculate the remainder of the number when divided by 10, which gives us the last digit.\n",
    "We add this digit to the reversed_num by multiplying it by 10 and adding the remainder.\n",
    "We divide the original number by 10 to move to the next digit.\n",
    "Once the loop finishes, we compare the original number with the reversed number.\n",
    "If they are equal, we print that the number is a Palindrome. Otherwise, we print that it's not."
   ]
  },
  {
   "cell_type": "markdown",
   "id": "e35de846-0aaa-44bc-aed6-6664a08e6a82",
   "metadata": {},
   "source": [
    "**Q9**. Write a code to print odd numbers from 1 to 100 using list comprehension."
   ]
  },
  {
   "cell_type": "code",
   "execution_count": 1,
   "id": "7ccdc276-af4e-4738-8bd9-7bbb388cc1e9",
   "metadata": {},
   "outputs": [
    {
     "name": "stdout",
     "output_type": "stream",
     "text": [
      "[1, 3, 5, 7, 9, 11, 13, 15, 17, 19, 21, 23, 25, 27, 29, 31, 33, 35, 37, 39, 41, 43, 45, 47, 49, 51, 53, 55, 57, 59, 61, 63, 65, 67, 69, 71, 73, 75, 77, 79, 81, 83, 85, 87, 89, 91, 93, 95, 97, 99]\n"
     ]
    }
   ],
   "source": [
    " odd_numbers = [i for i in range(1, 101) if i % 2!= 0]\n",
    "print(odd_numbers)"
   ]
  },
  {
   "cell_type": "markdown",
   "id": "b5fe75ca-c4e2-4858-a58a-c8ed5e2d0d54",
   "metadata": {},
   "source": [
    "The range(1, 101) function generates a sequence of numbers from 1 to 100.\n",
    "The list comprehension [i for i in range(1, 101) if i % 2!= 0] creates a new list containing only the numbers that satisfy the condition i % 2!= 0, which means the numbers that are not divisible by 2 (i.e., the odd numbers).\n",
    "The resulting list odd_numbers contains all the odd numbers from 1 to 100.\n",
    "Finally, we print the odd_numbers list using the print() function.\n"
   ]
  },
  {
   "cell_type": "code",
   "execution_count": null,
   "id": "9965420c-99fe-433c-91ce-828d6d0452fb",
   "metadata": {},
   "outputs": [],
   "source": []
  }
 ],
 "metadata": {
  "kernelspec": {
   "display_name": "Python 3 (ipykernel)",
   "language": "python",
   "name": "python3"
  },
  "language_info": {
   "codemirror_mode": {
    "name": "ipython",
    "version": 3
   },
   "file_extension": ".py",
   "mimetype": "text/x-python",
   "name": "python",
   "nbconvert_exporter": "python",
   "pygments_lexer": "ipython3",
   "version": "3.10.8"
  }
 },
 "nbformat": 4,
 "nbformat_minor": 5
}
